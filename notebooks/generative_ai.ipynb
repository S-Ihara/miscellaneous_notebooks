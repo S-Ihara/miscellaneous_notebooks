{
 "cells": [
  {
   "cell_type": "markdown",
   "metadata": {},
   "source": [
    "# 画像生成モデル基礎\n",
    "\n",
    "画像生成モデル（VAEやDiffusionなど）を勉強、実装するにあたって必要な基礎知識の確認。  \n",
    "全部まとめてると大変なのでポイントに絞って確認する。"
   ]
  },
  {
   "cell_type": "markdown",
   "metadata": {},
   "source": [
    "### 中心極限定理\n",
    "\n",
    "正規分布が特別視される理由として**中心極限定理（Central Limit Theorem）**がある。  \n",
    "\n",
    "ここでなんらかの確率分布$p(x)$を仮定する（どんな分布でもよい）。この時、$p(x)$から独立に生成されたサンプルを$\\{ x^{(1)}, x^{(2)} , \\ldots ,x^{(N)} \\}$とするとサンプル平均は次のようになる。  \n",
    "$$\\bar{x} = \\frac{\\sum_{i=1}^{N} x^{(i)}}{N}$$  \n",
    "この時、$\\bar{x}$は近似的に正規分布に従うことが分かっている。（$p(x)$は任意の確率分布にも関わらず）\n",
    "\n",
    "以下では$p(x)$を0~1の一様分布として中心極限定理が成り立つことを確認する。"
   ]
  },
  {
   "cell_type": "code",
   "execution_count": null,
   "metadata": {},
   "outputs": [],
   "source": [
    "import numpy as np\n",
    "\n",
    "N = 10000 # サンプルサイズ\n",
    "xs = []\n",
    "for n in range(N):\n",
    "    x = np.random.rand() # 0から1の一様分布からのサンプリング\n",
    "    xs.append(x)\n",
    "\n",
    "mean = np.mean(xs)\n",
    "variance = np.std(xs)**2\n",
    "print(f\"mean: {mean}, variance: {variance}\")"
   ]
  },
  {
   "cell_type": "code",
   "execution_count": null,
   "metadata": {},
   "outputs": [],
   "source": [
    "import matplotlib.pyplot as plt\n",
    "\n",
    "x_means = []\n",
    "N = 10 # サンプルサイズ\n",
    "\n",
    "for _ in range(1000):\n",
    "    xs = []\n",
    "    for n in range(N):\n",
    "        x = np.random.rand()\n",
    "        xs.append(x)\n",
    "    mean = np.mean(xs)\n",
    "    x_means.append(mean)\n",
    "\n",
    "# 比較用の正規分布\n",
    "def normal(x, mu=0, sigma=1):\n",
    "    y = 1 / (np.sqrt(2 * np.pi) * sigma) * np.exp(-(x - mu)**2 / (2 * sigma**2))\n",
    "    return y\n",
    "x_norm = np.linspace(-5, 5, 1000)\n",
    "#mu = 0.5\n",
    "#sigma = np.sqrt(1 / 12 / N)\n",
    "mu = mean\n",
    "sigma = np.sqrt(variance / N)\n",
    "y_norm = normal(x_norm, mu, sigma)\n",
    "\n",
    "# グラフの描画\n",
    "plt.hist(x_means, bins=\"auto\",density=True)\n",
    "plt.plot(x_norm, y_norm)\n",
    "plt.title(f\"N={N}\")\n",
    "plt.xlim(-1, 2)\n",
    "plt.show()"
   ]
  },
  {
   "cell_type": "code",
   "execution_count": null,
   "metadata": {},
   "outputs": [],
   "source": [
    "# 別の確率分布からのサンプリングでも試す\n",
    "s = np.random.pareto(3., 1000)\n",
    "mu = s.mean()\n",
    "variance = s.std()**2\n",
    "print(mu, sigma)\n",
    "plt.hist(s, bins=\"auto\",density=True)\n",
    "plt.show()"
   ]
  },
  {
   "cell_type": "code",
   "execution_count": null,
   "metadata": {},
   "outputs": [],
   "source": [
    "import matplotlib.pyplot as plt\n",
    "\n",
    "x_means = []\n",
    "N = 100 # サンプルサイズ\n",
    "\n",
    "for _ in range(1000):\n",
    "    xs = np.random.pareto(3., N)\n",
    "    mean = np.mean(xs)\n",
    "    x_means.append(mean)\n",
    "\n",
    "# 比較用の正規分布\n",
    "def normal(x, mu=0, sigma=1):\n",
    "    y = 1 / (np.sqrt(2 * np.pi) * sigma) * np.exp(-(x - mu)**2 / (2 * sigma**2))\n",
    "    return y\n",
    "x_norm = np.linspace(-5, 5, 1000)\n",
    "mu = mu\n",
    "sigma = np.sqrt(variance / N)\n",
    "y_norm = normal(x_norm, mu, sigma)\n",
    "\n",
    "# グラフの描画\n",
    "plt.hist(x_means, bins=\"auto\",density=True)\n",
    "plt.plot(x_norm, y_norm)\n",
    "plt.title(f\"N={N}\")\n",
    "plt.xlim(-1, 2)\n",
    "plt.show()"
   ]
  },
  {
   "cell_type": "code",
   "execution_count": null,
   "metadata": {},
   "outputs": [],
   "source": []
  },
  {
   "cell_type": "code",
   "execution_count": null,
   "metadata": {},
   "outputs": [],
   "source": []
  },
  {
   "cell_type": "code",
   "execution_count": null,
   "metadata": {},
   "outputs": [],
   "source": []
  },
  {
   "cell_type": "code",
   "execution_count": null,
   "metadata": {},
   "outputs": [],
   "source": []
  }
 ],
 "metadata": {
  "kernelspec": {
   "display_name": "deep",
   "language": "python",
   "name": "python3"
  },
  "language_info": {
   "codemirror_mode": {
    "name": "ipython",
    "version": 3
   },
   "file_extension": ".py",
   "mimetype": "text/x-python",
   "name": "python",
   "nbconvert_exporter": "python",
   "pygments_lexer": "ipython3",
   "version": "3.9.18"
  }
 },
 "nbformat": 4,
 "nbformat_minor": 2
}
