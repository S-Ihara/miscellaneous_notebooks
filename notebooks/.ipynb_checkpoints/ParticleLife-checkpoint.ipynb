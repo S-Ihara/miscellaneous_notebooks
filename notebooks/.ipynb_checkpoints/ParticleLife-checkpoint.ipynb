{
 "cells": [
  {
   "cell_type": "markdown",
   "id": "deb84663",
   "metadata": {},
   "source": [
    "# Particle Life\n",
    "\n",
    "1つ1つは簡単なルールのみで動く粒子を多数生成しシミュレーションすることで全体としては複雑な動きを作り出すことができる。  \n"
   ]
  },
  {
   "cell_type": "code",
   "execution_count": 1,
   "id": "ea35dc9a",
   "metadata": {},
   "outputs": [],
   "source": [
    "import matplotlib.pyplot as plt\n",
    "import numpy as np"
   ]
  },
  {
   "cell_type": "code",
   "execution_count": 2,
   "id": "b7d7d491",
   "metadata": {},
   "outputs": [],
   "source": [
    "### main param\n",
    "n_colors = 3\n",
    "field_min = 0\n",
    "field_max = 50\n",
    "#seed = 0 # seedを固定する場合\n",
    "#np.random.seed(seed)\n",
    "dt = 0.1\n",
    "fps = 10\n",
    "n_particles = 100 # number of paritcle per color\n",
    "all_time = 300\n",
    "alphas = np.array([[0.8   ,0.6 ,0. ],\n",
    "                   [0.  ,0.3 ,0.2],\n",
    "                   [0.4 ,0.  ,0.5]])\n",
    "alphas = np.random.random(size=(n_colors,n_colors)) - 0.\n",
    "minR = 2\n",
    "maxR = 10\n",
    "R_smooth = 2"
   ]
  },
  {
   "cell_type": "code",
   "execution_count": 3,
   "id": "f1678dec",
   "metadata": {},
   "outputs": [],
   "source": [
    "# init\n",
    "ps = np.random.randint(low=field_min,high=field_max,size=(n_colors,n_particles,2)) # (color,p,xy)\n",
    "ps = ps.astype(np.float64)\n",
    "vs = np.zeros(shape=(n_colors,n_particles,2))"
   ]
  },
  {
   "cell_type": "markdown",
   "id": "f808af4d",
   "metadata": {},
   "source": [
    "粒子同士の簡単な制御を以下に記述する。  "
   ]
  },
  {
   "cell_type": "code",
   "execution_count": 4,
   "id": "68ed23ee",
   "metadata": {},
   "outputs": [],
   "source": [
    "def v_update():\n",
    "    global vs\n",
    "    global ps\n",
    "\n",
    "    for i in range(n_colors):\n",
    "        for p in range(n_particles):\n",
    "            for t in range(n_colors):\n",
    "                for j in range(n_particles):\n",
    "                    if p==j:\n",
    "                        continue\n",
    "                    dx = ps[i][p][0] - ps[t][j][0]\n",
    "                    dy = ps[i][p][1] - ps[t][j][1]\n",
    "                    \n",
    "                    if dx > field_max*0.5:\n",
    "                        dx = -(field_max - dx)\n",
    "                    if dy > field_max*0.5:\n",
    "                        dy = -(field_max -dy)\n",
    "                        \n",
    "                    dd = dx**2 + dy**2\n",
    "                    \n",
    "                    if dd > maxR**2 or dd < 0.01:\n",
    "                        continue\n",
    "\n",
    "                    d = dd**0.5\n",
    "                    dx /= d\n",
    "                    dy /= d\n",
    "                        \n",
    "                    if d > minR:\n",
    "                        # 1 is minR\n",
    "                        numer = 2. * abs(d - 0.5*(minR+maxR))\n",
    "                        denom = maxR-minR\n",
    "                        f = alphas[i][t]*(1-numer)/denom\n",
    "                    else:\n",
    "                        f = R_smooth + minR *(1/(minR+R_smooth) - 1/(d+R_smooth))\n",
    "                    vs[i][p][0] += f * dx\n",
    "                    vs[i][p][1] += f * dy\n",
    "                                      \n",
    "def base_rule():\n",
    "    global vs\n",
    "    global ps\n",
    "    # 微小な揺れとか、自然減衰とか基本ルールをいくつか\n",
    "    \n",
    "    # 粒子の震え\n",
    "    #vs += 0.02 * (np.random.random(size=(n_colors,n_particles,2)) - 0.)\n",
    "    \n",
    "    # 自然減衰(空気抵抗的な)\n",
    "    vs *= 0.7\n",
    "\n",
    "def move():\n",
    "    global ps\n",
    "    global vs\n",
    "    ps += vs * dt\n",
    "    ps %= field_max"
   ]
  },
  {
   "cell_type": "code",
   "execution_count": 5,
   "id": "ae185879",
   "metadata": {},
   "outputs": [],
   "source": [
    "# 以下visualize"
   ]
  },
  {
   "cell_type": "code",
   "execution_count": 6,
   "id": "340b1185",
   "metadata": {},
   "outputs": [],
   "source": [
    "import matplotlib.animation as animation\n",
    "from tqdm import tqdm"
   ]
  },
  {
   "cell_type": "code",
   "execution_count": 7,
   "id": "7471be35",
   "metadata": {
    "scrolled": false
   },
   "outputs": [
    {
     "name": "stderr",
     "output_type": "stream",
     "text": [
      "C:\\Users\\shun2\\AppData\\Local\\Temp\\ipykernel_15020\\52224233.py:4: MatplotlibDeprecationWarning: The get_cmap function was deprecated in Matplotlib 3.7 and will be removed two minor releases later. Use ``matplotlib.colormaps[name]`` or ``matplotlib.colormaps.get_cmap(obj)`` instead.\n",
      "  cmap = plt.cm.get_cmap(\"rainbow\", n_colors)\n"
     ]
    },
    {
     "data": {
      "application/vnd.jupyter.widget-view+json": {
       "model_id": "a138b7790d984dfbbb335220febc39bc",
       "version_major": 2,
       "version_minor": 0
      },
      "image/png": "[encoded data removed]",
      "text/html": [
       "\n",
       "            <div style=\"display: inline-block;\">\n",
       "                <div class=\"jupyter-widgets widget-label\" style=\"text-align: center;\">\n",
       "                    Figure\n",
       "                </div>\n",
       "                <img src='data:image/png;base64,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' width=640.0/>\n",
       "            </div>\n",
       "        "
      ],
      "text/plain": [
       "Canvas(toolbar=Toolbar(toolitems=[('Home', 'Reset original view', 'home', 'home'), ('Back', 'Back to previous …"
      ]
     },
     "metadata": {},
     "output_type": "display_data"
    },
    {
     "name": "stdout",
     "output_type": "stream",
     "text": [
      "finished\n"
     ]
    }
   ],
   "source": [
    "%matplotlib widget\n",
    "\n",
    "fig = plt.figure()\n",
    "cmap = plt.cm.get_cmap(\"rainbow\", n_colors)\n",
    "\n",
    "def update_and_show(i):\n",
    "    global pbar\n",
    "    plt.clf()\n",
    "    plt.xlim(field_min,field_max)\n",
    "    plt.ylim(field_min,field_max)\n",
    "\n",
    "    # update\n",
    "    v_update()\n",
    "    base_rule()\n",
    "    move()\n",
    "    \n",
    "    # plot scatter\n",
    "    for j in range(n_colors):\n",
    "        plt.scatter(ps[j,:,0],ps[j,:,1],c=cmap(j),s=1)\n",
    "\n",
    "anim = animation.FuncAnimation(fig,update_and_show,frames=range(all_time),interval=1000//fps)\n",
    "\n",
    "plt.show() # notebook内で表示する場合\n",
    "#anim.save(\"test.gif\") # gif動画として保存したい場合\n",
    "\n",
    "print(\"finished\")"
   ]
  },
  {
   "cell_type": "code",
   "execution_count": null,
   "id": "fa648acf",
   "metadata": {},
   "outputs": [],
   "source": []
  }
 ],
 "metadata": {
  "kernelspec": {
   "display_name": "Python 3 (ipykernel)",
   "language": "python",
   "name": "python3"
  },
  "language_info": {
   "codemirror_mode": {
    "name": "ipython",
    "version": 3
   },
   "file_extension": ".py",
   "mimetype": "text/x-python",
   "name": "python",
   "nbconvert_exporter": "python",
   "pygments_lexer": "ipython3",
   "version": "3.9.13"
  }
 },
 "nbformat": 4,
 "nbformat_minor": 5
}
