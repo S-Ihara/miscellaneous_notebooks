{
 "cells": [
  {
   "cell_type": "markdown",
   "metadata": {},
   "source": [
    "# Atcoder Heuristic\n",
    "競技プログラミングのコンテストサイトAtcoderにおけるヒューリスティック系の問題に対する基本的な解法をまとめる。\n",
    "\n",
    "Referece\n",
    "- 競技プログラミングの鉄則\n",
    "    - 本"
   ]
  },
  {
   "cell_type": "markdown",
   "metadata": {},
   "source": [
    "## 局所探索と焼きなまし\n",
    "問題に対して解を生成した後に、その解を少しずつ変化させていくことでより良い解を探索する手法。\n",
    "使える条件としてざっくりと以下のような\n",
    "- 解が与えられた情報から生成できる\n",
    "- 解に対して評価ができる\n",
    "    - 評価の方法は直接的でも、自力で作成しても良い\n",
    "ときに使える\n",
    "\n",
    "以下の例題を考える  \n",
    "https://atcoder.jp/contests/tessoku-book/tasks/tessoku_book_at  \n",
    "いわゆる巡回セールスマン問題と呼ばれる問題"
   ]
  },
  {
   "cell_type": "code",
   "execution_count": null,
   "metadata": {},
   "outputs": [],
   "source": [
    "import random\n",
    "import numpy as np\n",
    "import time"
   ]
  },
  {
   "cell_type": "code",
   "execution_count": null,
   "metadata": {},
   "outputs": [],
   "source": [
    "# 入力（本来は標準入力が与えられるが、ここではサイトから入力例をコピーして使う）\n",
    "N = 7\n",
    "xys = [[1,1],[4,1],[2,5],[3,4],[3,2],[4,2],[5,5]]"
   ]
  },
  {
   "cell_type": "code",
   "execution_count": null,
   "metadata": {},
   "outputs": [],
   "source": [
    "# util functions \n",
    "def get_distance(idx_p,idx_q,xy):\n",
    "    return ((xy[idx_p][0] - xy[idx_q][0])**2 + (xy[idx_p][1] - xy[idx_q][1])**2)**0.5\n",
    "\n",
    "def get_total_distance(route,xy):\n",
    "    total_distance = 0\n",
    "    current_place = 1\n",
    "    for j in route:\n",
    "        total_distance += get_distance(current_place-1,j-1,xy)\n",
    "        current_place = j\n",
    "    return total_distance"
   ]
  },
  {
   "cell_type": "code",
   "execution_count": null,
   "metadata": {},
   "outputs": [],
   "source": [
    "# 局所探索\n",
    "# 初期解の生成\n",
    "ans = [1] + list(range(2,N+1)) + [1]\n",
    "\n",
    "# 今回の問題では解の途中のランダムな2点を選んでその間の都市の巡回順序を逆転させる\n",
    "# 他の問題に対してここをどう考えるかがポイント\n",
    "def random_reverse(route):\n",
    "    idx_p = random.randint(1,N-1)\n",
    "    idx_q = random.randint(idx_p+1,N)\n",
    "    route[idx_p:idx_q] = reversed(route[idx_p:idx_q])\n",
    "    return route\n",
    "\n",
    "current_score = get_total_distance(ans,xys)\n",
    "start_time = time.time()\n",
    "while time.time() - start_time < 1.0:\n",
    "    new_ans = random_reverse(ans.copy())\n",
    "    new_score = get_total_distance(new_ans,xys)\n",
    "    if new_score < current_score:\n",
    "        ans = new_ans\n",
    "        current_score = new_score\n",
    "\n",
    "print(current_score)\n",
    "print(ans)"
   ]
  },
  {
   "cell_type": "code",
   "execution_count": null,
   "metadata": {},
   "outputs": [],
   "source": [
    "# 焼きなまし\n",
    "# スコアが上がっていなくても確率的に受け入れる\n",
    "from math import exp \n",
    "\n",
    "# 初期解の生成\n",
    "ans = [1] + list(range(2,N+1)) + [1]\n",
    "\n",
    "# 今回の問題では解の途中のランダムな2点を選んでその間の都市の巡回順序を逆転させる\n",
    "# 他の問題に対してここをどう考えるかがポイント\n",
    "def random_reverse(route):\n",
    "    idx_p = random.randint(1,N-1)\n",
    "    idx_q = random.randint(idx_p+1,N)\n",
    "    route[idx_p:idx_q] = reversed(route[idx_p:idx_q])\n",
    "    return route\n",
    "\n",
    "current_score = get_total_distance(ans,xys)\n",
    "start_time = time.time()\n",
    "time_step = 0\n",
    "while time.time() - start_time < 1.0:\n",
    "    new_ans = random_reverse(ans.copy())\n",
    "    new_score = get_total_distance(new_ans,xys)\n",
    "\n",
    "    if new_score < current_score:\n",
    "        T = 30. - 28.*time_step/200000.\n",
    "        prob = exp(min(0.,(current_score - new_score)/T))\n",
    "        if prob > random.random():\n",
    "            ans = new_ans\n",
    "            current_score = new_score\n",
    "\n",
    "    time_step += 1\n",
    "\n",
    "print(current_score)\n",
    "print(ans)\n"
   ]
  },
  {
   "cell_type": "markdown",
   "metadata": {},
   "source": [
    "## 貪欲法とビームサーチ\n",
    "問題に対して1手先のスコアが最大となる操作を取り続けるのが貪欲法  \n",
    "対してビームサーチでは1手先の最善手だけでなく、次善手や次々善手も考慮して最終的に一番スコアが高くなるような操作を取る手法  \n",
    "\n",
    "以下の例題を考える  \n",
    "https://atcoder.jp/contests/tessoku-book/tasks/tessoku_book_aw  \n"
   ]
  },
  {
   "cell_type": "code",
   "execution_count": null,
   "metadata": {},
   "outputs": [],
   "source": [
    "# 入力（本来は標準入力が与えられるが、ここではサイトから入力生成方法に従ってランダムに生成する）\n",
    "T = 100\n",
    "pqr = list()\n",
    "for i in range(100):\n",
    "    pqr.append(list(np.sort(np.random.permutation(20)[:3] + 1)))"
   ]
  },
  {
   "cell_type": "code",
   "execution_count": null,
   "metadata": {},
   "outputs": [],
   "source": [
    "# 貪欲法\n",
    "ans = []\n",
    "x = np.zeros(20)\n",
    "score = 0\n",
    "\n",
    "for p,q,r in pqr:\n",
    "    # Aの操作、Bの操作を比べてスコアの高くなる方を採択\n",
    "    tmp_a,tmp_b = x.copy(),x.copy()\n",
    "    # A\n",
    "    tmp_a[[p-1,q-1,r-1]] += 1\n",
    "    score_a = 20 - np.count_nonzero(tmp_a)\n",
    "    # B\n",
    "    tmp_b[[p-1,q-1,r-1]] -= 1\n",
    "    score_b = 20 - np.count_nonzero(tmp_b)\n",
    "    \n",
    "    if score_a > score_b:\n",
    "        x[[p-1,q-1,r-1]] += 1\n",
    "        score += score_a\n",
    "        ans.append(\"A\")\n",
    "    else:\n",
    "        x[[p-1,q-1,r-1]] -= 1\n",
    "        score += score_b\n",
    "        ans.append(\"B\")\n",
    "    \n",
    "# 回答の出力\n",
    "# for a in ans:\n",
    "#     print(a)\n",
    "# スコア\n",
    "print(score)"
   ]
  },
  {
   "cell_type": "markdown",
   "metadata": {},
   "source": [
    "ビームサーチ  \n",
    "実装においてi手目終了時点での第j位の状態Beam[i][j]には\n",
    "- 現時点でのスコア\n",
    "- 現時点での状態（今回なら配列Xの値）\n",
    "- 現時点で選んだ行動（i手目は操作A,Bのどちらであったか）\n",
    "- i-1手目時点では第何位の行動を選んだか  \n",
    "\n",
    "の情報が必要\n",
    "\n",
    "今回はdictでscore,X,lastmove,lastposで情報を格納する（dataclassとか使ってもいい）"
   ]
  },
  {
   "cell_type": "code",
   "execution_count": null,
   "metadata": {},
   "outputs": [],
   "source": [
    "ans = []\n",
    "x = np.zeros(20)\n",
    "score = 0\n",
    "\n",
    "K = 10 # ビーム幅\n",
    "beam = [[dict() for _ in range(K)] for _ in range(T+1)]\n",
    "\n",
    "# 初期状態\n",
    "beam[0][0][\"X\"] = x\n",
    "beam[0][0][\"score\"] = 0\n",
    "beam[0][0][\"lastmove\"] = None\n",
    "beam[0][0][\"lastpos\"] = -1\n",
    "numstate = [0]*(T+1)\n",
    "numstate[0] = 1\n",
    "\n",
    "# ビームサーチ\n",
    "for i in range(1,101):\n",
    "    p,q,r = pqr[i-1]\n",
    "    candidate = []\n",
    "    for n in range(numstate[i-1]):\n",
    "        # beam[i-1][n]に対して次の操作を行ってスコアや状態などを記録\n",
    "        tmp_a,tmp_b = beam[i-1][n][\"X\"].copy(),beam[i-1][n][\"X\"].copy()\n",
    "        \n",
    "        # A\n",
    "        tmp_a[[p-1,q-1,r-1]] += 1\n",
    "        score_a = 20 - np.count_nonzero(tmp_a)\n",
    "        state_dict = {}\n",
    "        state_dict[\"X\"] = tmp_a\n",
    "        state_dict[\"score\"] = beam[i-1][n][\"score\"] + score_a\n",
    "        state_dict[\"lastmove\"] = \"A\"\n",
    "        state_dict[\"lastpos\"] = n\n",
    "        candidate.append(state_dict)\n",
    "\n",
    "        # B\n",
    "        tmp_b[[p-1,q-1,r-1]] -= 1\n",
    "        score_b = 20 - np.count_nonzero(tmp_b)\n",
    "        state_dict = {}\n",
    "        state_dict[\"X\"] = tmp_b\n",
    "        state_dict[\"score\"] = beam[i-1][n][\"score\"] + score_b\n",
    "        state_dict[\"lastmove\"] = \"B\"\n",
    "        state_dict[\"lastpos\"] = n\n",
    "        candidate.append(state_dict)\n",
    "    \n",
    "    # scoreでソート\n",
    "    candidate = sorted(candidate, key=lambda x: x['score'], reverse=True)\n",
    "    for p in range(min(K,len(candidate))):\n",
    "        beam[i][p] = candidate[p]\n",
    "    numstate[i] = min(K,len(candidate))\n",
    "    \n",
    "# beam[99][0]から答えをたどる\n",
    "ans = []\n",
    "lastpos = 0\n",
    "for i in range(100,0,-1):\n",
    "    ans.append(beam[i][lastpos][\"lastmove\"])\n",
    "    lastpos = beam[i][lastpos][\"lastpos\"]\n",
    "# 回答の出力\n",
    "# for a in ans[::-1]:\n",
    "#     print(a)\n",
    "# score\n",
    "print(beam[100][0][\"score\"])"
   ]
  },
  {
   "cell_type": "code",
   "execution_count": null,
   "metadata": {},
   "outputs": [],
   "source": []
  },
  {
   "cell_type": "code",
   "execution_count": null,
   "metadata": {},
   "outputs": [],
   "source": []
  }
 ],
 "metadata": {
  "kernelspec": {
   "display_name": "Python 3 (ipykernel)",
   "language": "python",
   "name": "python3"
  },
  "language_info": {
   "codemirror_mode": {
    "name": "ipython",
    "version": 3
   },
   "file_extension": ".py",
   "mimetype": "text/x-python",
   "name": "python",
   "nbconvert_exporter": "python",
   "pygments_lexer": "ipython3",
   "version": "3.9.13"
  }
 },
 "nbformat": 4,
 "nbformat_minor": 2
}
