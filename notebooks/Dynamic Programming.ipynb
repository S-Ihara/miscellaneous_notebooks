{
 "cells": [
  {
   "attachments": {},
   "cell_type": "markdown",
   "metadata": {},
   "source": [
    "# Dynamic Programming (動的計画法)\n",
    "\n",
    "競プロにて頻繁に登場するアルゴリズム  \n",
    "簡単な問題を通じて実装をしていく\n",
    "\n",
    "Reference\n",
    "- 競技プログラミングの鉄則\n",
    "    - 書籍。図が多くて分かりやすい。"
   ]
  },
  {
   "attachments": {},
   "cell_type": "markdown",
   "metadata": {},
   "source": [
    "動的計画法は一言で表すと、より小さい問題の結果を利用して問題を解く方法などとよく言われる。  \n",
    "が、そういわれても(自分は)ピンとこないので実際に具体例を見る方が多分手っ取り早い。"
   ]
  },
  {
   "attachments": {},
   "cell_type": "markdown",
   "metadata": {},
   "source": [
    "## 例題1 動的計画法の基本\n",
    "https://atcoder.jp/contests/tessoku-book/tasks/tessoku_book_p\n",
    "\n",
    "---\n",
    "以下解法とか、考え方とか\n",
    "\n",
    "- dpの作り方  \n",
    "dp[i]を部屋1から部屋iまでの最短時間とする  \n",
    "    - 今回のような簡単な例では自然に思いつきやすいが、ここのdpをどう作るかが難しく色々なパターンがある  \n",
    "- dp[i]の計算の仕方  \n",
    "dp[1]は移動する必要がないから0(部屋は1-index)  \n",
    "dp[2]は1から$A_2$時間かけて移動するしかないのでdp[2]=$A_2$\n",
    "dp[3]は部屋1から$A_2 + A_3$かけて移動するか、$B_3$かけて移動するかの2通り  \n",
    "もっと言うと1個前の部屋からの移動時間dp[2] + $A_3$か2個前部屋からの移動時間dp[1] + $B_3$と表せる  \n",
    "一般化すると部屋iは1個前の部屋からdp[i-1] + $A_i$かけて移動するか、dp[i-2] + $B_i$かけて移動するかの2通りとなる  \n",
    "    -  dpは最短時間を計算してあるはずなので考えるのはこの2通りだけで、それ以前は考えなくて大丈夫  \n",
    "従って\n",
    "$$\n",
    "dp[1] = 0  \\\\\n",
    "dp[2] = A_2 \\\\\n",
    "dp[i] = \\min (dp[i-1] + A_i, dp[i-2] + B_i) \\\\\n",
    "$$\n",
    "と表せ、これを手前から(0からN方向へ)計算していけば計算量$O(N)$で求まる\n"
   ]
  },
  {
   "cell_type": "code",
   "execution_count": 13,
   "metadata": {},
   "outputs": [
    {
     "name": "stdout",
     "output_type": "stream",
     "text": [
      "8\n"
     ]
    }
   ],
   "source": [
    "# 回答例\n",
    "\n",
    "# 入力\n",
    "N = 5\n",
    "a = [2,4,1,3]\n",
    "b = [5,3,7]\n",
    "\n",
    "# 回答\n",
    "dp = [] # numpy使ってdp = np.zeros(shape=(N,))とかしてdp[i] = の形にしても良い。そっちの方が分かりやすい\n",
    "# 以下0-index (分かりやすくしたいなら1-indexになるよう番兵とか入れて調整して)\n",
    "dp.append(0) # dp[1] = 0\n",
    "dp.append(a[0]) # dp[2] = A_2\n",
    "for i in range(2,N):\n",
    "    dp.append(min(dp[i-1]+a[i-1],dp[i-2]+b[i-2]))\n",
    "\n",
    "print(dp[-1])"
   ]
  },
  {
   "cell_type": "code",
   "execution_count": 14,
   "metadata": {},
   "outputs": [
    {
     "name": "stdout",
     "output_type": "stream",
     "text": [
      "8\n"
     ]
    }
   ],
   "source": [
    "# 添え字がバチクソ分かりにくいからnumpyの配列を使うバージョンも\n",
    "# ついでに問題に合わせて1-indexにしちゃう\n",
    "import numpy as np\n",
    "dp = np.zeros(shape=(N+1,),dtype=np.int64)\n",
    "a = [0,0] + a\n",
    "b = [0,0,0] + b\n",
    "\n",
    "dp[0] = 1e9\n",
    "dp[1] = 0\n",
    "dp[2] = a[2]\n",
    "for i in range(3,N+1):\n",
    "    dp[i] = min(dp[i-1]+a[i],dp[i-2]+b[i])\n",
    "print(dp[-1])\n"
   ]
  },
  {
   "attachments": {},
   "cell_type": "markdown",
   "metadata": {},
   "source": [
    "## 例題2 動的計画法の復元\n",
    "https://atcoder.jp/contests/tessoku-book/tasks/tessoku_book_q\n",
    "\n",
    "---\n",
    "先の問題では手前から順にdp[i]を更新していった  \n",
    "動的計画法の経路の復元では逆にゴール側からdp[i]を計算するときにどっちのルートからやってきたかを辿ることで復元を行う  \n",
    "具体的には  \n",
    "dp[N]はd[N-1] + $A_N$ or d[N-2] + $B_N$を計算することで合う方がdp[N]の1つ手前の状態であることが分かる  \n",
    "d[N-2] + $B_N$ = dp[N]なら1つ前はN-2なので今度はdp[N-2]はdp[N-2-1] + $A_{N-2}$ or dp[N-2-2] + $B_{N-2}$を計算することで\n",
    "どっちのルートからやってきたか分かる  \n",
    "これを続けてスタートまで求めることで経路の復元ができる"
   ]
  },
  {
   "cell_type": "code",
   "execution_count": 15,
   "metadata": {},
   "outputs": [
    {
     "name": "stdout",
     "output_type": "stream",
     "text": [
      "1 2 4 5\n"
     ]
    }
   ],
   "source": [
    "# 回答例\n",
    "# 入力\n",
    "N = 5\n",
    "a = [2,4,1,3]\n",
    "b = [5,3,7]\n",
    "\n",
    "import numpy as np\n",
    "# 動的計画法の計算\n",
    "dp = np.zeros(shape=(N+1,),dtype=np.int64)\n",
    "a = [0,0] + a\n",
    "b = [0,0,0] + b\n",
    "\n",
    "dp[1] = 0\n",
    "dp[2] = a[2]\n",
    "for i in range(3,N+1):\n",
    "    dp[i] = min(dp[i-1]+a[i],dp[i-2]+b[i])\n",
    "\n",
    "# ここから経路の計算\n",
    "route = []\n",
    "pos = N\n",
    "while pos!= 1:\n",
    "    route.append(pos)\n",
    "    if dp[pos] == dp[pos-1] + a[pos]:\n",
    "        pos = pos-1\n",
    "    elif dp[pos] == dp[pos-2] + b[pos]:\n",
    "        pos = pos-2\n",
    "\n",
    "route.append(pos)\n",
    "print(*route[::-1])"
   ]
  },
  {
   "attachments": {},
   "cell_type": "markdown",
   "metadata": {},
   "source": [
    "## 例題3 2次元のDP(1): 部分和問題  \n",
    "https://atcoder.jp/contests/tessoku-book/tasks/tessoku_book_r  \n",
    "\n",
    "---\n",
    "単純な解法だとN毎のカードを選ぶか、選ばないかで全探索することになるが時間計算量が$O(2^N)$になる  \n",
    "そこでDPを考える(どういう風にDPを設計、考えるか、が大事)  \n",
    "今回の問題では  \n",
    "dp[i][j]: カードをi枚目まで使ったときに整数jを作れるか  \n",
    "とdpを二次元配列で作ってやると上手くいく  \n",
    "i=0(カードを一枚も使わない)のときは当然j=0のみできるのでdp[0][0]=1  \n",
    "i>0ではi-1番目でできる整数に対して、a[i]のカードを使うか、使わないかの2パターンの整数の作り方が発生しそれ以外の整数は作り得ない  "
   ]
  },
  {
   "cell_type": "code",
   "execution_count": 16,
   "metadata": {},
   "outputs": [
    {
     "name": "stdout",
     "output_type": "stream",
     "text": [
      "Yes\n"
     ]
    }
   ],
   "source": [
    "# 回答例\n",
    "# 入力\n",
    "N=3\n",
    "S=7\n",
    "A=[2,2,3]\n",
    "\n",
    "import numpy as np\n",
    "A = [0] + A # 1-index化\n",
    "dp = np.zeros(shape=(N+3,S+3),dtype=np.int64) # 番兵：あって保険になっても損はしないのでn+1ではなくn+3まで用意してある\n",
    "\n",
    "\n",
    "dp[0][0] = 1 # カードを0枚使ってできるのは0のみ\n",
    "for i in range(1,N+1): # 手前から順にA[i]のカードを使うかどうか\n",
    "    for j in range(0,S+1): # i枚目のカードを使ったとき\n",
    "        if dp[i-1,j]==1: # i-1枚でjが作れたら\n",
    "            dp[i,j] = 1 # i枚目でA[i]を使わないパターンか\n",
    "            if j+A[i] > S+1:\n",
    "                continue # (Sを越えたらもうその先は必要ない (dp配列を越えてエラーもでるし))\n",
    "            dp[i,j+A[i]] = 1 # i枚目でA[i]を使うパターンができる\n",
    "\n",
    "if dp[N,S]==1:\n",
    "    print(\"Yes\")\n",
    "else:\n",
    "    print(\"No\")"
   ]
  },
  {
   "cell_type": "markdown",
   "metadata": {},
   "source": [
    "## 例題4　2次元のDP(2): ナップザック問題\n",
    "https://atcoder.jp/contests/tessoku-book/tasks/tessoku_book_s\n",
    "\n",
    "---\n",
    "愚直な解法では品物の選び方$2^N$通りを全探索することがあるが、Nが大きいと計算量が当然大きくなる。  \n",
    "そこでDPを考える。  \n",
    "品物を1個、2個、...、N個まで選ぶことを考えてその中で重さの合計がjとなるような価値の最大値をdp[i][j]とする。  \n",
    "\n",
    "まずi=0のとき、何も選べないのでdp[0][0]=0、j>0は選べないので-1としておく。  \n",
    "i=1のとき、i=0の（全ての）状態から品物1を選ぶか選ばないかを考えることでdp[1][j] (j=0,1,...,W)を求めることができる。  \n",
    "i=2のときも同様にi=1の状態から品物2を選ぶか選ばないかを考えることでdp[2][j] (j=0,1,...,W)を求めるこができる。  \n",
    "以下同様にi=nのときにi=n-1の状態から品物nを選ぶか選ばないかを考えることでdp[n][j] (j=0,1,...,W)を求めることができる。  \n",
    "これによりO(NW)で解ける。  \n"
   ]
  },
  {
   "cell_type": "code",
   "execution_count": 17,
   "metadata": {},
   "outputs": [
    {
     "name": "stdout",
     "output_type": "stream",
     "text": [
      "40\n"
     ]
    }
   ],
   "source": [
    "# 回答例\n",
    "# 入力\n",
    "N = 4\n",
    "W = 7\n",
    "wv = [(3,13),(3,17),(5,29),(1,10)]\n",
    "\n",
    "dp = [[-1e6]*(W+1) for _ in range(N+1)]\n",
    "dp[0][0] = 0\n",
    "for i in range(N):\n",
    "    for j in range(W):\n",
    "        next_weight = wv[i][0]\n",
    "        next_value = wv[i][1]\n",
    "        # それぞれの前の状態から選ぶ場合と選ばない場合についてdpを計算\n",
    "        if dp[i][j] >= 0: # 状態が存在して\n",
    "            # 選ばない場合\n",
    "            dp[i+1][j] = max(dp[i+1][j], dp[i][j])\n",
    "\n",
    "            # 選ぶ場合は重さがWを超えない場合に限る\n",
    "            if j+next_weight <= W:\n",
    "                dp[i+1][j+next_weight] = max(dp[i+1][j+next_weight], dp[i][j] + next_value)\n",
    "\n",
    "ans = max([max(dp[i]) for i in range(N+1)])\n",
    "print(ans)\n"
   ]
  },
  {
   "cell_type": "markdown",
   "metadata": {},
   "source": [
    "## 例題5　2次元のDP(3): 最長共通部分列問題\n",
    "https://atcoder.jp/contests/tessoku-book/tasks/tessoku_book_t\n",
    "\n",
    "---\n",
    "縦軸に文字列1を、横軸に文字列2をびゃーっと並べると見通しが良くなる。  \n",
    "共通文字列の探索はマス目を左上から右下に向かっていくときに、同じ文字があった場合に斜めに+1となる。縦横で進んでいくときに最も斜め移動が多くなるように進めば求まる。  \n",
    "dp[i][j]: 文字列1のi文字目までと文字列2のj文字目までの最長共通部分列の長さ  \n",
    "とする。  \n",
    "dp[i][0] = dp[0][j] = 0 (i=0,1,...,N, j=0,1,...,M)と最初に初期化することができ以降は\n",
    "dp[i][j] = dp[i-1][j-1] + 1 (if (s[i] = t[j]))  \n",
    "と更新することでO(NM)で解ける。"
   ]
  },
  {
   "cell_type": "code",
   "execution_count": 9,
   "metadata": {},
   "outputs": [
    {
     "name": "stdout",
     "output_type": "stream",
     "text": [
      "[[0 0 0 0 0 0]\n",
      " [0 0 0 0 1 1]\n",
      " [0 0 0 1 1 2]\n",
      " [0 1 1 1 1 2]\n",
      " [0 1 2 2 2 2]\n",
      " [0 1 2 3 3 3]]\n",
      "3\n"
     ]
    }
   ],
   "source": [
    "# 回答例\n",
    "# 入力\n",
    "S = \"tokyo\"\n",
    "T = \"kyoto\"\n",
    "\n",
    "dp = [[0]*(len(T)+1) for _ in range(len(S)+1)] # 全て0で初期化で問題なし\n",
    "\n",
    "for i in range(len(S)+1):\n",
    "    for j in range(len(T)+1):\n",
    "        if i == 0 or j == 0:\n",
    "            continue\n",
    "        if S[i-1] == T[j-1]: # 文字列の添え字とずれているので注意\n",
    "            tmp = max(dp[i-1][j], dp[i][j-1])\n",
    "            dp[i][j] = max(dp[i-1][j-1]+1, tmp)\n",
    "        else:\n",
    "            dp[i][j] = max(dp[i-1][j], dp[i][j-1])\n",
    "\n",
    "print(np.array(dp))\n",
    "print(dp[len(S)][len(T)]) # dp[-1][-1]でも良い"
   ]
  },
  {
   "cell_type": "code",
   "execution_count": 3,
   "metadata": {},
   "outputs": [],
   "source": [
    "import numpy as np"
   ]
  },
  {
   "cell_type": "code",
   "execution_count": null,
   "metadata": {},
   "outputs": [],
   "source": []
  },
  {
   "cell_type": "markdown",
   "metadata": {},
   "source": []
  }
 ],
 "metadata": {
  "kernelspec": {
   "display_name": "benkyo_notebooks-T7RSA-DL",
   "language": "python",
   "name": "python3"
  },
  "language_info": {
   "codemirror_mode": {
    "name": "ipython",
    "version": 3
   },
   "file_extension": ".py",
   "mimetype": "text/x-python",
   "name": "python",
   "nbconvert_exporter": "python",
   "pygments_lexer": "ipython3",
   "version": "3.9.13"
  },
  "orig_nbformat": 4
 },
 "nbformat": 4,
 "nbformat_minor": 2
}
