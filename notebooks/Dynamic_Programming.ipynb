{
 "cells": [
  {
   "attachments": {},
   "cell_type": "markdown",
   "metadata": {},
   "source": [
    "# Dynamic Programming (動的計画法)\n",
    "\n",
    "競プロにて頻繁に登場するアルゴリズム  \n",
    "簡単な問題を通じて実装をしていく\n",
    "\n",
    "Reference\n",
    "- 競技プログラミングの鉄則\n",
    "    - 書籍。図が多くて分かりやすい。"
   ]
  },
  {
   "attachments": {},
   "cell_type": "markdown",
   "metadata": {},
   "source": [
    "動的計画法は一言で表すと、より小さい問題の結果を利用して問題を解く方法などとよく言われる。  \n",
    "が、そういわれても(自分は)ピンとこないので実際に具体例を見る方が多分手っ取り早い。"
   ]
  },
  {
   "attachments": {},
   "cell_type": "markdown",
   "metadata": {},
   "source": [
    "## 例題1 動的計画法の基本\n",
    "https://atcoder.jp/contests/tessoku-book/tasks/tessoku_book_p\n",
    "\n",
    "---\n",
    "以下解法とか、考え方とか\n",
    "\n",
    "- dpの作り方  \n",
    "dp[i]を部屋1から部屋iまでの最短時間とする  \n",
    "    - 今回のような簡単な例では自然に思いつきやすいが、ここのdpをどう作るかが難しく色々なパターンがある  \n",
    "- dp[i]の計算の仕方  \n",
    "dp[1]は移動する必要がないから0(部屋は1-index)  \n",
    "dp[2]は1から$A_2$時間かけて移動するしかないのでdp[2]=$A_2$\n",
    "dp[3]は部屋1から$A_2 + A_3$かけて移動するか、$B_3$かけて移動するかの2通り  \n",
    "もっと言うと1個前の部屋からの移動時間dp[2] + $A_3$か2個前部屋からの移動時間dp[1] + $B_3$と表せる  \n",
    "一般化すると部屋iは1個前の部屋からdp[i-1] + $A_i$かけて移動するか、dp[i-2] + $B_i$かけて移動するかの2通りとなる  \n",
    "    -  dpは最短時間を計算してあるはずなので考えるのはこの2通りだけで、それ以前は考えなくて大丈夫  \n",
    "従って\n",
    "$$\n",
    "dp[1] = 0  \\\\\n",
    "dp[2] = A_2 \\\\\n",
    "dp[i] = \\min (dp[i-1] + A_i, dp[i-2] + B_i) \\\\\n",
    "$$\n",
    "と表せ、これを手前から(0からN方向へ)計算していけば計算量$O(N)$で求まる\n"
   ]
  },
  {
   "cell_type": "code",
   "execution_count": 1,
   "metadata": {},
   "outputs": [
    {
     "name": "stdout",
     "output_type": "stream",
     "text": [
      "8\n"
     ]
    }
   ],
   "source": [
    "# 回答例\n",
    "\n",
    "# 入力\n",
    "N = 5\n",
    "a = [2,4,1,3]\n",
    "b = [5,3,7]\n",
    "\n",
    "# 回答\n",
    "dp = [] # numpy使ってdp = np.zeros(shape=(N,))とかしてdp[i] = の形にしても良い。そっちの方が分かりやすい\n",
    "# 以下0-index (分かりやすくしたいなら1-indexになるよう番兵とか入れて調整して)\n",
    "dp.append(0) # dp[1] = 0\n",
    "dp.append(a[0]) # dp[2] = A_2\n",
    "for i in range(2,N):\n",
    "    dp.append(min(dp[i-1]+a[i-1],dp[i-2]+b[i-2]))\n",
    "\n",
    "print(dp[-1])"
   ]
  },
  {
   "cell_type": "code",
   "execution_count": 2,
   "metadata": {},
   "outputs": [
    {
     "name": "stdout",
     "output_type": "stream",
     "text": [
      "8\n"
     ]
    }
   ],
   "source": [
    "# 添え字がバチクソ分かりにくいからnumpyの配列を使うバージョンも\n",
    "# ついでに問題に合わせて1-indexにしちゃう\n",
    "import numpy as np\n",
    "dp = np.zeros(shape=(N+1,),dtype=np.int64)\n",
    "a = [0,0] + a\n",
    "b = [0,0,0] + b\n",
    "\n",
    "dp[0] = 1e9\n",
    "dp[1] = 0\n",
    "dp[2] = a[2]\n",
    "for i in range(3,N+1):\n",
    "    dp[i] = min(dp[i-1]+a[i],dp[i-2]+b[i])\n",
    "print(dp[-1])\n"
   ]
  },
  {
   "attachments": {},
   "cell_type": "markdown",
   "metadata": {},
   "source": [
    "## 例題2 動的計画法の復元\n",
    "https://atcoder.jp/contests/tessoku-book/tasks/tessoku_book_q\n",
    "\n",
    "---\n",
    "先の問題では手前から順にdp[i]を更新していった  \n",
    "動的計画法の経路の復元では逆にゴール側からdp[i]を計算するときにどっちのルートからやってきたかを辿ることで復元を行う  \n",
    "具体的には  \n",
    "dp[N]はd[N-1] + $A_N$ or d[N-2] + $B_N$を計算することで合う方がdp[N]の1つ手前の状態であることが分かる  \n",
    "d[N-2] + $B_N$ = dp[N]なら1つ前はN-2なので今度はdp[N-2]はdp[N-2-1] + $A_{N-2}$ or dp[N-2-2] + $B_{N-2}$を計算することで\n",
    "どっちのルートからやってきたか分かる  \n",
    "これを続けてスタートまで求めることで経路の復元ができる"
   ]
  },
  {
   "cell_type": "code",
   "execution_count": 3,
   "metadata": {},
   "outputs": [
    {
     "name": "stdout",
     "output_type": "stream",
     "text": [
      "1 2 4 5\n"
     ]
    }
   ],
   "source": [
    "# 回答例\n",
    "# 入力\n",
    "N = 5\n",
    "a = [2,4,1,3]\n",
    "b = [5,3,7]\n",
    "\n",
    "import numpy as np\n",
    "# 動的計画法の計算\n",
    "dp = np.zeros(shape=(N+1,),dtype=np.int64)\n",
    "a = [0,0] + a\n",
    "b = [0,0,0] + b\n",
    "\n",
    "dp[1] = 0\n",
    "dp[2] = a[2]\n",
    "for i in range(3,N+1):\n",
    "    dp[i] = min(dp[i-1]+a[i],dp[i-2]+b[i])\n",
    "\n",
    "# ここから経路の計算\n",
    "route = []\n",
    "pos = N\n",
    "while pos!= 1:\n",
    "    route.append(pos)\n",
    "    if dp[pos] == dp[pos-1] + a[pos]:\n",
    "        pos = pos-1\n",
    "    elif dp[pos] == dp[pos-2] + b[pos]:\n",
    "        pos = pos-2\n",
    "\n",
    "route.append(pos)\n",
    "print(*route[::-1])"
   ]
  },
  {
   "cell_type": "code",
   "execution_count": null,
   "metadata": {},
   "outputs": [],
   "source": []
  }
 ],
 "metadata": {
  "kernelspec": {
   "display_name": "benkyo_notebooks-T7RSA-DL",
   "language": "python",
   "name": "python3"
  },
  "language_info": {
   "codemirror_mode": {
    "name": "ipython",
    "version": 3
   },
   "file_extension": ".py",
   "mimetype": "text/x-python",
   "name": "python",
   "nbconvert_exporter": "python",
   "pygments_lexer": "ipython3",
   "version": "3.9.13"
  },
  "orig_nbformat": 4
 },
 "nbformat": 4,
 "nbformat_minor": 2
}
