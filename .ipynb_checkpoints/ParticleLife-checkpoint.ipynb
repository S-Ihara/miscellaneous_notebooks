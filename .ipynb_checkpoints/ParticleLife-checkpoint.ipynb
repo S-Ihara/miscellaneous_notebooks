{
 "cells": [
  {
   "cell_type": "markdown",
   "id": "deb84663",
   "metadata": {},
   "source": [
    "# Particle Life\n",
    "\n",
    "簡単なルールのみで複雑な動きをシミュレートする。  \n"
   ]
  },
  {
   "cell_type": "code",
   "execution_count": 33,
   "id": "ea35dc9a",
   "metadata": {},
   "outputs": [],
   "source": [
    "import matplotlib.pyplot as plt\n",
    "import numpy as np"
   ]
  },
  {
   "cell_type": "code",
   "execution_count": 34,
   "id": "b7d7d491",
   "metadata": {},
   "outputs": [],
   "source": [
    "# Params\n",
    "### window param\n",
    "width = 600\n",
    "height = 600\n",
    "\n",
    "### main param\n",
    "num_colors = 4\n",
    "acc_coefficient = np.array([[1,1],\n",
    "                            [1,1]])\n",
    "\n",
    "\n",
    "### simulator param\n",
    "dt = 0.1\n",
    "\n",
    "\n",
    "###\n",
    "p1 = 1\n",
    "p2 = 4\n",
    "pmax = 20\n",
    "\n",
    "#ほんとは色によってparamの値を変える\n",
    "alpha = 0.1\n",
    "beta = 0.1\n",
    "gamma = 0.1\n"
   ]
  },
  {
   "cell_type": "code",
   "execution_count": 35,
   "id": "f1678dec",
   "metadata": {},
   "outputs": [],
   "source": [
    "ps = np.random.randint(low=0,high=10,size=(2,10,2)) # (color,p,xy)\n",
    "ps = ps.astype(np.float64)\n",
    "vs = np.zeros(shape=(2,10,2))"
   ]
  },
  {
   "cell_type": "code",
   "execution_count": 36,
   "id": "bd3f79f1",
   "metadata": {},
   "outputs": [
    {
     "name": "stdout",
     "output_type": "stream",
     "text": [
      "float64\n",
      "float64\n"
     ]
    }
   ],
   "source": [
    "print(ps[0].dtype)\n",
    "print(vs[0].dtype)"
   ]
  },
  {
   "cell_type": "code",
   "execution_count": 37,
   "id": "68ed23ee",
   "metadata": {},
   "outputs": [],
   "source": [
    "def v_update():\n",
    "    for i in range(2):\n",
    "        for p in range(10):\n",
    "            for j in range(10):\n",
    "                if p==j:\n",
    "                    continue\n",
    "                d = ((ps[i][p][0] - ps[i][j][0])**2 + (ps[i][p][1] - ps[i][j][1])**2)**0.5\n",
    "                if d < p1:\n",
    "                    acc = alpha * (p1-d)/p1\n",
    "                elif p1 <= d <= p2:\n",
    "                    acc = beta * (d-p1)/(p2-p1)\n",
    "                elif p2 < d:\n",
    "                    acc = gamma * (pmax-d)/(pmax-p2)\n",
    "                else:\n",
    "                    acc = 0\n",
    "                vs[i][p][0] += acc\n",
    "                vs[i][p][1] += acc\n",
    "            \n",
    "def move():\n",
    "    for i in range(2):\n",
    "        ps[i] += vs[i]\n",
    "\n",
    "def syapo_update():\n",
    "    v_update()\n",
    "    move()"
   ]
  },
  {
   "cell_type": "code",
   "execution_count": null,
   "id": "e77e3931",
   "metadata": {},
   "outputs": [],
   "source": []
  },
  {
   "cell_type": "code",
   "execution_count": null,
   "id": "ae185879",
   "metadata": {},
   "outputs": [],
   "source": [
    "# 以下visualize"
   ]
  },
  {
   "cell_type": "code",
   "execution_count": 38,
   "id": "340b1185",
   "metadata": {},
   "outputs": [],
   "source": [
    "import matplotlib.animation as animation"
   ]
  },
  {
   "cell_type": "code",
   "execution_count": 39,
   "id": "7471be35",
   "metadata": {},
   "outputs": [
    {
     "name": "stderr",
     "output_type": "stream",
     "text": [
      "MovieWriter ffmpeg unavailable; using Pillow instead.\n"
     ]
    },
    {
     "data": {
      "image/png": "[encoded data removed]",
      "text/plain": [
       "<Figure size 640x480 with 1 Axes>"
      ]
     },
     "metadata": {},
     "output_type": "display_data"
    }
   ],
   "source": [
    "%matplotlib inline\n",
    "\n",
    "fig = plt.figure()\n",
    "\n",
    "def update_and_show(i):\n",
    "    plt.clf()\n",
    "    plt.axis(\"off\")\n",
    "    syapo_update()\n",
    "    plt.scatter(ps[0,:,0],ps[0,:,1],c=\"red\")\n",
    "    plt.scatter(ps[1,:,0],ps[1,:,1],c=\"blue\")\n",
    "\n",
    "anim = animation.FuncAnimation(fig,update_and_show,frames=range(100))\n",
    "\n",
    "#plt.show()\n",
    "anim.save(\"test.gif\")"
   ]
  },
  {
   "cell_type": "code",
   "execution_count": 32,
   "id": "a00be253",
   "metadata": {},
   "outputs": [
    {
     "data": {
      "text/plain": [
       "array([-5.68719156e+08, -5.68719139e+08, -5.68719148e+08, -5.68719149e+08,\n",
       "       -5.89584586e+08, -5.68719152e+08, -4.48468039e+09, -5.68719148e+08,\n",
       "       -5.68839591e+08, -9.06547291e+08])"
      ]
     },
     "execution_count": 32,
     "metadata": {},
     "output_type": "execute_result"
    }
   ],
   "source": [
    "ps[0,:,0]"
   ]
  },
  {
   "cell_type": "code",
   "execution_count": null,
   "id": "0c785c90",
   "metadata": {},
   "outputs": [],
   "source": []
  }
 ],
 "metadata": {
  "kernelspec": {
   "display_name": "Python 3 (ipykernel)",
   "language": "python",
   "name": "python3"
  },
  "language_info": {
   "codemirror_mode": {
    "name": "ipython",
    "version": 3
   },
   "file_extension": ".py",
   "mimetype": "text/x-python",
   "name": "python",
   "nbconvert_exporter": "python",
   "pygments_lexer": "ipython3",
   "version": "3.9.13"
  }
 },
 "nbformat": 4,
 "nbformat_minor": 5
}
