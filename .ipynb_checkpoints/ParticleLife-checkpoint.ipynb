{
 "cells": [
  {
   "cell_type": "markdown",
   "id": "deb84663",
   "metadata": {},
   "source": [
    "# Particle Life\n",
    "\n",
    "簡単なルールのみで複雑な動きをシミュレートする。  \n"
   ]
  },
  {
   "cell_type": "code",
   "execution_count": 2,
   "id": "ea35dc9a",
   "metadata": {},
   "outputs": [],
   "source": [
    "import matplotlib.pyplot as plt\n",
    "import numpy as np"
   ]
  },
  {
   "cell_type": "code",
   "execution_count": 3,
   "id": "b7d7d491",
   "metadata": {},
   "outputs": [],
   "source": [
    "# Params\n",
    "### window param\n",
    "width = 600\n",
    "height = 600\n",
    "\n",
    "### main param\n",
    "num_colors = 4\n",
    "acc_coefficient = np.array([[1,1]\n",
    "                            [1,1]])\n",
    "\n",
    "\n",
    "### simulator param\n",
    "dt = 0.1\n"
   ]
  },
  {
   "cell_type": "code",
   "execution_count": 5,
   "id": "f1678dec",
   "metadata": {},
   "outputs": [],
   "source": [
    "ps = np.random.randint(low=0,high=10,size=(2,10,2)) # (color,p,xy)\n",
    "vs = np.zeros(shape=(2,10,2))"
   ]
  },
  {
   "cell_type": "code",
   "execution_count": 4,
   "id": "bd3f79f1",
   "metadata": {},
   "outputs": [
    {
     "data": {
      "text/plain": [
       "(10, 10)"
      ]
     },
     "execution_count": 4,
     "metadata": {},
     "output_type": "execute_result"
    }
   ],
   "source": [
    "ps[0].shape"
   ]
  },
  {
   "cell_type": "code",
   "execution_count": null,
   "id": "68ed23ee",
   "metadata": {},
   "outputs": [],
   "source": [
    "def interact(v,i,ps):\n",
    "    d = ps[]\n",
    "\n",
    "def v_update():\n",
    "    for i in range(2):\n",
    "        for p in range(10):\n",
    "            for j in range(10):\n",
    "                if p==j:\n",
    "                    continue\n",
    "                d = ((ps[i][p][0] - ps[i][j][0])**2 + (ps[i][p][1] - ps[i][j][1])**2)**0.5\n",
    "                #vs[i][p][0]\n",
    "            "
   ]
  },
  {
   "cell_type": "code",
   "execution_count": null,
   "id": "e77e3931",
   "metadata": {},
   "outputs": [],
   "source": []
  },
  {
   "cell_type": "code",
   "execution_count": null,
   "id": "ae185879",
   "metadata": {},
   "outputs": [],
   "source": [
    "# 以下visualize"
   ]
  },
  {
   "cell_type": "code",
   "execution_count": 5,
   "id": "f43dff0f",
   "metadata": {},
   "outputs": [],
   "source": [
    "def update(ps):\n",
    "    for i in range(2): # colors\n",
    "        ps[i] += np.random.randint(low=-1,high=1,size=(10,2))"
   ]
  },
  {
   "cell_type": "code",
   "execution_count": 6,
   "id": "8290185a",
   "metadata": {},
   "outputs": [
    {
     "data": {
      "image/png": "[encoded data removed]",
      "text/plain": [
       "<Figure size 640x480 with 1 Axes>"
      ]
     },
     "metadata": {},
     "output_type": "display_data"
    }
   ],
   "source": [
    "%matplotlib inline\n",
    "\n",
    "fig = plt.figure()\n",
    "for i in range(1):\n",
    "    plt.clf()\n",
    "    \n",
    "    update(ps)\n",
    "    \n",
    "    plt.scatter(ps[0][0],ps[0][1],c=\"red\")\n",
    "    plt.scatter(ps[1][0],ps[1][1],c=\"blue\")\n",
    "\n",
    "    plt.show()"
   ]
  },
  {
   "cell_type": "code",
   "execution_count": 7,
   "id": "340b1185",
   "metadata": {},
   "outputs": [],
   "source": [
    "import matplotlib.animation as animation"
   ]
  },
  {
   "cell_type": "code",
   "execution_count": 10,
   "id": "7471be35",
   "metadata": {},
   "outputs": [
    {
     "name": "stderr",
     "output_type": "stream",
     "text": [
      "MovieWriter ffmpeg unavailable; using Pillow instead.\n"
     ]
    },
    {
     "data": {
      "image/png": "[encoded data removed]",
      "text/plain": [
       "<Figure size 640x480 with 1 Axes>"
      ]
     },
     "metadata": {},
     "output_type": "display_data"
    }
   ],
   "source": [
    "%matplotlib inline\n",
    "\n",
    "fig = plt.figure()\n",
    "\n",
    "def update_and_show(i):\n",
    "    plt.clf()\n",
    "    plt.axis(\"off\")\n",
    "    update(ps)\n",
    "    plt.scatter(ps[0][0],ps[0][1],c=\"red\")\n",
    "    plt.scatter(ps[1][0],ps[1][1],c=\"blue\")\n",
    "\n",
    "anim = animation.FuncAnimation(fig,update_and_show,frames=range(100))\n",
    "\n",
    "#plt.show()\n",
    "anim.save(\"test.gif\")"
   ]
  },
  {
   "cell_type": "code",
   "execution_count": null,
   "id": "a00be253",
   "metadata": {},
   "outputs": [],
   "source": [
    "1"
   ]
  },
  {
   "cell_type": "code",
   "execution_count": null,
   "id": "0c785c90",
   "metadata": {},
   "outputs": [],
   "source": []
  }
 ],
 "metadata": {
  "kernelspec": {
   "display_name": "Python 3 (ipykernel)",
   "language": "python",
   "name": "python3"
  },
  "language_info": {
   "codemirror_mode": {
    "name": "ipython",
    "version": 3
   },
   "file_extension": ".py",
   "mimetype": "text/x-python",
   "name": "python",
   "nbconvert_exporter": "python",
   "pygments_lexer": "ipython3",
   "version": "3.9.13"
  }
 },
 "nbformat": 4,
 "nbformat_minor": 5
}
