{
 "cells": [
  {
   "cell_type": "markdown",
   "id": "deb84663",
   "metadata": {},
   "source": [
    "# Particle Life\n",
    "\n",
    "簡単なルールのみで複雑な動きをシミュレートする。  \n"
   ]
  },
  {
   "cell_type": "code",
   "execution_count": 1,
   "id": "ea35dc9a",
   "metadata": {},
   "outputs": [],
   "source": [
    "import matplotlib.pyplot as plt\n",
    "import numpy as np"
   ]
  },
  {
   "cell_type": "code",
   "execution_count": null,
   "id": "b7d7d491",
   "metadata": {},
   "outputs": [],
   "source": [
    "# Params\n",
    "### window param\n",
    "width = 600\n",
    "height = 600\n",
    "\n",
    "### main param\n",
    "n_colors = 4\n",
    "\n",
    "### simulator param\n",
    "seed = 1\n",
    "np.random.seed(seed)\n",
    "dt = 0.1\n",
    "n_particles = 100 # number of paritcle per color\n",
    "\n",
    "\n",
    "###\n",
    "p1 = 1\n",
    "p2 = 5\n",
    "pmax = 20\n",
    "\n",
    "#ほんとは色によってparamの値を変える\n",
    "alpha = 0.1\n",
    "beta = 0.1\n",
    "gamma = 0.1\n",
    "\n",
    "alphas = np.random.random(size=(n_colors,n_colors)) * 0.5\n",
    "betas = np.random.random(size=(n_colors,n_colors)) * 0.3\n",
    "gammas = np.random.random(size=(n_colors,n_colors)) * 0.1\n"
   ]
  },
  {
   "cell_type": "code",
   "execution_count": null,
   "id": "f1678dec",
   "metadata": {},
   "outputs": [],
   "source": [
    "ps = np.random.randint(low=0,high=10,size=(n_colors,n_particles,2)) # (color,p,xy)\n",
    "ps = ps.astype(np.float64)\n",
    "vs = np.zeros(shape=(n_colors,n_particles,2))"
   ]
  },
  {
   "cell_type": "code",
   "execution_count": null,
   "id": "bd3f79f1",
   "metadata": {},
   "outputs": [],
   "source": [
    "print(ps[0].dtype)\n",
    "print(vs[0].dtype)"
   ]
  },
  {
   "cell_type": "code",
   "execution_count": null,
   "id": "68ed23ee",
   "metadata": {},
   "outputs": [],
   "source": [
    "def v_update():\n",
    "    for i in range(n_colors):\n",
    "        for p in range(n_particles):\n",
    "            for t in range(n_colors):\n",
    "                for j in range(n_particles):\n",
    "                    if p==j:\n",
    "                        continue\n",
    "                    # calcurate distance\n",
    "                    dx = ps[i][p][0] - ps[t][j][0]\n",
    "                    dy = ps[i][p][1] - ps[t][j][1]\n",
    "                    d = (dx**2 + dy**2)**0.5\n",
    "\n",
    "                    if d < p1:\n",
    "                        #acc = alpha * (p1-d)/p1\n",
    "                        acc = alphas[i][t] * (p1-d)/p1\n",
    "                    elif p1 <= d <= p2:\n",
    "                        #acc = beta * (d-p1)/(p2-p1)\n",
    "                        acc = betas[i][t] * (d-p1)/(p2-p1)\n",
    "                    elif p2 < d:\n",
    "                        #acc = gamma * (pmax-d)/(pmax-p2)\n",
    "                        acc = gammas[i][t] * (pmax-d)/(pmax-p2)\n",
    "                    else:\n",
    "                        acc = 0\n",
    "                    vs[i][p][0] += acc * dx/(d + 1e-6)\n",
    "                    vs[i][p][1] += acc * dy/(d + 1e-6)\n",
    "            \n",
    "def base_rule():\n",
    "    global vs\n",
    "    global ps\n",
    "    # 微小な揺れとか、自然減衰とか基本ルールをいくつか\n",
    "    \n",
    "    # 粒子の震え\n",
    "    vs += 0.002 * (np.random.random(size=(n_colors,n_particles,2)) - 0.5)\n",
    "    \n",
    "    # 自然減衰(空気抵抗的な)\n",
    "    vs *= 0.5\n",
    "    \n",
    "    # vsクリップ\n",
    "    vs = np.clip(vs,-5.0,5.0)\n",
    "    \n",
    "    # psクリップ\n",
    "    #ps = np.clip(ps,-20.0,20.0)\n",
    "    #ps = ps.clip(-20.0,20.0)\n",
    "    \n",
    "def move():\n",
    "    for i in range(2):\n",
    "        ps[i] += vs[i]\n",
    "\n",
    "def syapo_update():\n",
    "    v_update()\n",
    "    base_rule()\n",
    "    move()"
   ]
  },
  {
   "cell_type": "code",
   "execution_count": null,
   "id": "e77e3931",
   "metadata": {},
   "outputs": [],
   "source": [
    "#np.random.random(size=(10,))"
   ]
  },
  {
   "cell_type": "code",
   "execution_count": null,
   "id": "ae185879",
   "metadata": {},
   "outputs": [],
   "source": [
    "# 以下visualize"
   ]
  },
  {
   "cell_type": "code",
   "execution_count": null,
   "id": "340b1185",
   "metadata": {},
   "outputs": [],
   "source": [
    "import matplotlib.animation as animation\n",
    "#from tqdm.notebook import tqdm\n",
    "from tqdm import tqdm"
   ]
  },
  {
   "cell_type": "code",
   "execution_count": null,
   "id": "7471be35",
   "metadata": {},
   "outputs": [],
   "source": [
    "%matplotlib inline\n",
    "\n",
    "fig = plt.figure()\n",
    "cmap = plt.cm.get_cmap(\"rainbow\", n_colors)\n",
    "\n",
    "def update_and_show(i):\n",
    "    global pbar\n",
    "    plt.clf()\n",
    "    plt.xlim(-50,50)\n",
    "    plt.ylim(-50,50)\n",
    "    plt.axis(\"off\")\n",
    "    syapo_update()\n",
    "    for j in range(n_colors):\n",
    "        plt.scatter(ps[j,:,0],ps[j,:,1],c=cmap(j),s=1)\n",
    "    pbar.update(1)\n",
    "\n",
    "pbar = tqdm(total=100)\n",
    "anim = animation.FuncAnimation(fig,update_and_show,frames=range(100))\n",
    "pbar.close\n",
    "\n",
    "#plt.show()\n",
    "anim.save(\"test.gif\")\n",
    "\n",
    "print(\"finished\")"
   ]
  },
  {
   "cell_type": "code",
   "execution_count": null,
   "id": "568a4b29",
   "metadata": {},
   "outputs": [],
   "source": []
  },
  {
   "cell_type": "code",
   "execution_count": null,
   "id": "a00be253",
   "metadata": {},
   "outputs": [],
   "source": [
    "cmap = plt.cm.get_cmap(\"rainbow\", 3) # \"rainbow\", \"PiYG\"\n",
    "cmap\n",
    "#plt.plot(range(5), c=cmap(120))"
   ]
  },
  {
   "cell_type": "code",
   "execution_count": null,
   "id": "0c785c90",
   "metadata": {},
   "outputs": [],
   "source": [
    "print(\"debug\")\n",
    "print(\"ps\")\n",
    "print(ps.max())\n",
    "print(ps.min())\n",
    "print(\"vs\")\n",
    "print(vs.max())\n",
    "print(vs.min())\n"
   ]
  },
  {
   "cell_type": "code",
   "execution_count": null,
   "id": "91b05844",
   "metadata": {},
   "outputs": [],
   "source": [
    "import tqdm"
   ]
  },
  {
   "cell_type": "code",
   "execution_count": null,
   "id": "fa648acf",
   "metadata": {},
   "outputs": [],
   "source": [
    "vs"
   ]
  },
  {
   "cell_type": "code",
   "execution_count": null,
   "id": "2838da0e",
   "metadata": {},
   "outputs": [],
   "source": []
  }
 ],
 "metadata": {
  "kernelspec": {
   "display_name": "Python 3 (ipykernel)",
   "language": "python",
   "name": "python3"
  },
  "language_info": {
   "codemirror_mode": {
    "name": "ipython",
    "version": 3
   },
   "file_extension": ".py",
   "mimetype": "text/x-python",
   "name": "python",
   "nbconvert_exporter": "python",
   "pygments_lexer": "ipython3",
   "version": "3.9.13"
  }
 },
 "nbformat": 4,
 "nbformat_minor": 5
}
